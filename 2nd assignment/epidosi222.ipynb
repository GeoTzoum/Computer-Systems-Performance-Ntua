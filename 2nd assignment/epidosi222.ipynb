{
  "nbformat": 4,
  "nbformat_minor": 0,
  "metadata": {
    "colab": {
      "name": "epidosi222.ipynb",
      "provenance": [],
      "collapsed_sections": []
    },
    "kernelspec": {
      "name": "python3",
      "display_name": "Python 3"
    },
    "language_info": {
      "name": "python"
    }
  },
  "cells": [
    {
      "cell_type": "markdown",
      "source": [
        "# Επίδοση εργασία 2 - ΟΜΑΔΑ 44\n",
        "Νικόλαος Μπλέτσας (03118899)\n",
        "\n",
        "Γεώργιος Τζουμανέκας (03118095)"
      ],
      "metadata": {
        "id": "T1b56kMIqAkH"
      }
    },
    {
      "cell_type": "markdown",
      "source": [
        "## Εισαγωγή"
      ],
      "metadata": {
        "id": "NTMKSyY-4j4E"
      }
    },
    {
      "cell_type": "code",
      "source": [
        "import numpy as np\n",
        "import random\n",
        "from tqdm import tqdm\n",
        "import matplotlib.pyplot as plt\n",
        "plt.rcParams[\"figure.figsize\"] = (20,5)"
      ],
      "metadata": {
        "id": "D71ke8Y8p3QY"
      },
      "execution_count": null,
      "outputs": []
    },
    {
      "cell_type": "markdown",
      "source": [
        "Εισάγουμε τα δεδομένα της εκφώνησης"
      ],
      "metadata": {
        "id": "0FMYpDj0p7JP"
      }
    },
    {
      "cell_type": "code",
      "source": [
        "# cpu arrival rates (jobs / sec)\n",
        "cpu_arrival_rate = 0.9\n",
        "\n",
        "# average service times (sec)\n",
        "cpu_average_service_time = 54e-3\n",
        "\n",
        "disk_average_service_time = 35e-3\n",
        "\n",
        "# average disk visits\n",
        "average_disk_visits = 18\n",
        "\n",
        "# average result transfer time (sec)\n",
        "average_res_trans_time = 234e-3"
      ],
      "metadata": {
        "id": "8Myz11cHp-xX"
      },
      "execution_count": null,
      "outputs": []
    },
    {
      "cell_type": "markdown",
      "source": [
        "Το disk_arrival_rate είναι ο ρυθμός με τον οποίο μια εργασία μεταβαίνει από τη CPU στο δίσκο"
      ],
      "metadata": {
        "id": "cM0R8bahrGYi"
      }
    },
    {
      "cell_type": "code",
      "source": [
        "# disk arrival rates (jobs / sec)\n",
        "disk_arrival_rate = average_disk_visits / cpu_average_service_time"
      ],
      "metadata": {
        "id": "ds2-9BoKrI1G"
      },
      "execution_count": null,
      "outputs": []
    },
    {
      "cell_type": "markdown",
      "source": [
        "Ορίζουμε την κλάση Job για να διευκολύνουμε την προσομοίωση"
      ],
      "metadata": {
        "id": "HA6sntKDrYIC"
      }
    },
    {
      "cell_type": "code",
      "source": [
        "class Job:\n",
        "    def __init__(self, time):\n",
        "        self.start_time = time\n",
        "        self.end_time = None\n",
        "        self.cpu_waiting_time = 0\n",
        "        self.disk_visits = 0\n",
        "        self.remaining_time = np.random.exponential(scale=cpu_average_service_time)\n",
        "        self.disk_remaining_time = None\n",
        "        self.transfer_time = np.random.exponential(scale=average_res_trans_time)\n",
        "        self.movement = False\n",
        "        self.cpu_service_time = 0\n",
        "            \n",
        "    def move_to_disk(self):\n",
        "        self.disk_visits += 1\n",
        "        self.disk_remaining_time = np.random.exponential(scale=disk_average_service_time)"
      ],
      "metadata": {
        "id": "MWHjJBRbrXmZ"
      },
      "execution_count": null,
      "outputs": []
    },
    {
      "cell_type": "markdown",
      "source": [
        "Η παρακάτω συναρτηση εισάγει μια εργασία σε μία ουρά."
      ],
      "metadata": {
        "id": "F1wz_0A5sFne"
      }
    },
    {
      "cell_type": "code",
      "source": [
        "def insert(job, queue):\n",
        "    if not queue:\n",
        "        queue = [job]\n",
        "        return queue\n",
        "    else:\n",
        "        queue.append(job)\n",
        "        return queue"
      ],
      "metadata": {
        "id": "WPo6GASMsKQU"
      },
      "execution_count": null,
      "outputs": []
    },
    {
      "cell_type": "markdown",
      "source": [
        "**Η προσομοίωση γίνεται ως εξής:**\n",
        "\n",
        "Χωρίζουμε το χρόνο σε πολύ μικρά διαστήματα ώστε να έχουμε\n",
        "\n",
        "P[άφιξης στο διάστημα dt] = ρυθμός αφίξεων * dt\n",
        "\n",
        "Και έπειτα προχωράμε το χρόνο κατά dt σε κάθε επανάληψη της προσομοίωσης. Όταν έρχεται μια νέα εργασία, την προσθέτουμε στην ουρά της CPU με υπολειπόμενο χρόνο (πεδίο remaining_time στο Job) δείγμα από εκθετική κατανομή με μέσο όρο τον μέσο χρόνο ανά επίσκεψη στη cpu.\n",
        "\n",
        "Επίσης υπολογίζουμε την πιθανότητα στο διάστημα dt η εργασία να μεταβεί από τη CPU στο δίσκο.\n",
        "\n",
        "P[μετάβασης από τη CPU στο δίσκο στο διάστημα dt] = (Μέσος αριθμός επισκέψεων στο δίσκο)*dt/(Μέσος χρόνος εξυπηρέτησης στη CPU)\n",
        "\n",
        "Αυτό ισχύει για αρκούντως μικρό dt.\n",
        "\n",
        "Τα σημεία αναγεννησης ορίζονται ως οι στιγμές που μια νέα εργασία εισέρχεται σε άδειο σύστημα (CPU και disk)."
      ],
      "metadata": {
        "id": "t_SEatLNv4LI"
      }
    },
    {
      "cell_type": "markdown",
      "source": [
        "## 1η περίπτωση - FIFO"
      ],
      "metadata": {
        "id": "16bU-2_H4Ngw"
      }
    },
    {
      "cell_type": "code",
      "source": [
        "t = 0\n",
        "np.random.seed(54)\n",
        "random.seed(54)\n",
        "CPU_queue = []\n",
        "disk_queue = []\n",
        "completed_jobs = []\n",
        "cpu_history = []\n",
        "disk_history = []\n",
        "regeneration_points = []\n",
        "max_regeneration_cycles = 1000\n",
        "confidence_level = 0.95\n",
        "dt = 1e-3\n",
        "\n",
        "while len(regeneration_points) < max_regeneration_cycles:\n",
        "    if CPU_queue:\n",
        "        # if there are jobs in the cpu queue, process the one with the highest priority\n",
        "        CPU_queue[0].remaining_time -= dt\n",
        "        if CPU_queue[0].remaining_time <= 0:\n",
        "            # if it's done, keep it in the completed list and remove it from the queue\n",
        "            CPU_queue[0].end_time = t\n",
        "            completed_jobs.append(CPU_queue[0])\n",
        "            CPU_queue.pop(0)\n",
        "        elif random.random() < disk_arrival_rate * dt:\n",
        "            # jobs move to disk\n",
        "            CPU_queue[0].move_to_disk()\n",
        "            disk_queue.append(CPU_queue[0])\n",
        "            CPU_queue.pop(0)\n",
        "\n",
        "    # disk\n",
        "    if disk_queue:\n",
        "        # if the disk is not empty, process the job with the highest priority\n",
        "        disk_queue[0].disk_remaining_time -= dt\n",
        "        if disk_queue[0].disk_remaining_time <= 0:\n",
        "            # if the job with the highest priority is done move it back to the cpu\n",
        "            CPU_queue = insert(disk_queue[0], CPU_queue)\n",
        "            disk_queue.pop(0)\n",
        "    \n",
        "    # new arrivals\n",
        "    if random.random() < cpu_arrival_rate * dt:\n",
        "        if CPU_queue == [] and disk_queue == []:\n",
        "            regeneration_points.append(t)\n",
        "        CPU_queue = insert(Job(time=t), CPU_queue)\n",
        "\n",
        "    \n",
        "    if len(regeneration_points) % 20 == 0 and len(regeneration_points) > 0:\n",
        "        response_times_B = [job.end_time - job.start_time + job.transfer_time for job in completed_jobs]\n",
        "        # ci = confidence interval length\n",
        "        ci = 2 * confidence_level * np.std(response_times_B) / np.sqrt(len(response_times_B))\n",
        "        if ci < 0.1 * np.mean(response_times_B):\n",
        "            break\n",
        "    \n",
        "    cpu_history.append(len(CPU_queue))\n",
        "    disk_history.append(len(disk_queue))\n",
        "    t += dt"
      ],
      "metadata": {
        "id": "aAkUGqxxv3wc"
      },
      "execution_count": null,
      "outputs": []
    },
    {
      "cell_type": "markdown",
      "source": [
        "### Αποτελέσματα προσομοίωσης"
      ],
      "metadata": {
        "id": "bSZ1XMIOxHJP"
      }
    },
    {
      "cell_type": "code",
      "source": [
        "response_times = [job.end_time - job.start_time + job.transfer_time for job in completed_jobs]\n",
        "print('Average response time:', sum(response_times) / len(response_times))\n",
        "print('=============================================')\n",
        "print('Number of completed jobs:', len(completed_jobs))\n",
        "print('=============================================')\n",
        "print('CPU Utilization =', len(list(filter(lambda x: x != 0, cpu_history))) / len(cpu_history))\n",
        "print('Disk Utilization =', len(list(filter(lambda x: x != 0, disk_history))) / len(disk_history))\n",
        "print('=============================================')\n",
        "print('Total regeneration cycles:', len(regeneration_points))"
      ],
      "metadata": {
        "colab": {
          "base_uri": "https://localhost:8080/"
        },
        "id": "ILzolku5xWZl",
        "outputId": "721c24aa-2a2d-4b9b-a103-b4ce629ab2c4"
      },
      "execution_count": null,
      "outputs": [
        {
          "output_type": "stream",
          "name": "stdout",
          "text": [
            "Average response time: 1.659979061468609\n",
            "=============================================\n",
            "Number of completed jobs: 504\n",
            "=============================================\n",
            "CPU Utilization = 0.04915853551768067\n",
            "Disk Utilization = 0.557612488587208\n",
            "=============================================\n",
            "Total regeneration cycles: 220\n"
          ]
        }
      ]
    },
    {
      "cell_type": "code",
      "source": [
        "plt.plot(cpu_history)\n",
        "plt.xlabel('Χρόνος (msec)')\n",
        "plt.ylabel('Αριθμός εργασιών στην ουρά της CPU')\n",
        "plt.show()"
      ],
      "metadata": {
        "colab": {
          "base_uri": "https://localhost:8080/"
        },
        "id": "Az3C4lTYxaAz",
        "outputId": "acd61961-db62-431e-8b76-1dc65d2f7393"
      },
      "execution_count": null,
      "outputs": [
        {
          "output_type": "display_data",
          "data": {
            "text/plain": [
              "<Figure size 432x288 with 1 Axes>"
            ],
            "image/png": "[encoded data removed]"
          },
          "metadata": {
            "needs_background": "light"
          }
        }
      ]
    },
    {
      "cell_type": "code",
      "source": [
        "plt.plot(disk_history)\n",
        "plt.xlabel('Χρόνος (msec)')\n",
        "plt.ylabel('Αριθμός εργασιών στην ουρά του δίσκου')\n",
        "plt.show()"
      ],
      "metadata": {
        "colab": {
          "base_uri": "https://localhost:8080/"
        },
        "id": "x5WT5QtJQxHG",
        "outputId": "3dc24b6e-95cd-4d87-ee50-e4d0101ae0b0"
      },
      "execution_count": null,
      "outputs": [
        {
          "output_type": "display_data",
          "data": {
            "text/plain": [
              "<Figure size 432x288 with 1 Axes>"
            ],
            "image/png": "[encoded data removed]"
          },
          "metadata": {
            "needs_background": "light"
          }
        }
      ]
    },
    {
      "cell_type": "markdown",
      "source": [
        "## 2η περίπτωση - LWTF"
      ],
      "metadata": {
        "id": "ldohgWdyA53g"
      }
    },
    {
      "cell_type": "code",
      "source": [
        "t = 0\n",
        "np.random.seed(54)\n",
        "random.seed(54)\n",
        "CPU_queue = []\n",
        "disk_queue = []\n",
        "completed_jobs = []\n",
        "cpu_history = []\n",
        "disk_history = []\n",
        "regeneration_points = []\n",
        "max_regeneration_cycles = 1000\n",
        "confidence_level = 0.95\n",
        "dt = 1e-3\n",
        "\n",
        "while len(regeneration_points) < max_regeneration_cycles:\n",
        "    if CPU_queue:\n",
        "        i = res = 0\n",
        "        max = 0\n",
        "        for x in CPU_queue:\n",
        "            if x.cpu_waiting_time > max:\n",
        "                max = x.cpu_waiting_time\n",
        "                res = i\n",
        "            i += 1\n",
        "        # if there are jobs in the cpu queue, process the one with the highest priority\n",
        "        CPU_queue[res].remaining_time -= dt\n",
        "        if CPU_queue[res].remaining_time <= 0:\n",
        "            # if it's done, keep it in the completed list and remove it from the queue\n",
        "            CPU_queue[res].end_time = t\n",
        "            completed_jobs.append(CPU_queue[res])\n",
        "            CPU_queue.pop(res)\n",
        "        elif random.random() < disk_arrival_rate * dt:\n",
        "            # jobs move to disk\n",
        "            CPU_queue[res].move_to_disk()\n",
        "            disk_queue.append(CPU_queue[res])\n",
        "            CPU_queue.pop(res)\n",
        "\n",
        "    # disk\n",
        "    if disk_queue:\n",
        "        # if the disk is not empty, process the job with the highest priority\n",
        "        disk_queue[0].disk_remaining_time -= dt\n",
        "        if disk_queue[0].disk_remaining_time <= 0:\n",
        "            # if the job with the highest priority is done move it back to the cpu\n",
        "            CPU_queue = insert(disk_queue[0], CPU_queue)\n",
        "            disk_queue.pop(0)\n",
        "    \n",
        "    # new arrivals\n",
        "    if random.random() < cpu_arrival_rate * dt:\n",
        "        if CPU_queue == [] and disk_queue == []:\n",
        "            regeneration_points.append(t)\n",
        "        CPU_queue = insert(Job(time=t), CPU_queue)\n",
        "\n",
        "    \n",
        "    if len(regeneration_points) % 20 == 0 and len(regeneration_points) > 0:\n",
        "        response_times_B = [job.end_time - job.start_time + job.transfer_time for job in completed_jobs]\n",
        "        # ci = confidence interval length\n",
        "        ci = 2 * confidence_level * np.std(response_times_B) / np.sqrt(len(response_times_B))\n",
        "        if ci < 0.1 * np.mean(response_times_B):\n",
        "            break\n",
        "    \n",
        "    for i in range (0,len(CPU_queue)):\n",
        "        CPU_queue[i].cpu_waiting_time += dt\n",
        "\n",
        "    cpu_history.append(len(CPU_queue))\n",
        "    disk_history.append(len(disk_queue))\n",
        "    t += dt"
      ],
      "metadata": {
        "id": "KjJW9sy_qvA8"
      },
      "execution_count": null,
      "outputs": []
    },
    {
      "cell_type": "markdown",
      "source": [
        "### Αποτελέσματα προσομοίωσης"
      ],
      "metadata": {
        "id": "b4C5sw926_V2"
      }
    },
    {
      "cell_type": "code",
      "source": [
        "response_times = [job.end_time - job.start_time + job.transfer_time for job in completed_jobs]\n",
        "print('Average response time:', sum(response_times) / len(response_times))\n",
        "print('=============================================')\n",
        "print('Number of completed jobs:', len(completed_jobs))\n",
        "print('=============================================')\n",
        "print('CPU Utilization =', len(list(filter(lambda x: x != 0, cpu_history))) / len(cpu_history))\n",
        "print('Disk Utilization =', len(list(filter(lambda x: x != 0, disk_history))) / len(disk_history))\n",
        "print('=============================================')\n",
        "print('Total regeneration cycles:', len(regeneration_points))"
      ],
      "metadata": {
        "colab": {
          "base_uri": "https://localhost:8080/"
        },
        "id": "sGXi9CFxF0zC",
        "outputId": "91a880b4-7da7-477f-aff6-c5d0ffe5c818"
      },
      "execution_count": null,
      "outputs": [
        {
          "output_type": "stream",
          "name": "stdout",
          "text": [
            "Average response time: 1.5759320526482623\n",
            "=============================================\n",
            "Number of completed jobs: 443\n",
            "=============================================\n",
            "CPU Utilization = 0.04529233927554711\n",
            "Disk Utilization = 0.5109501928613243\n",
            "=============================================\n",
            "Total regeneration cycles: 200\n"
          ]
        }
      ]
    },
    {
      "cell_type": "code",
      "source": [
        "plt.plot(cpu_history)\n",
        "plt.xlabel('Χρόνος (msec)')\n",
        "plt.ylabel('Αριθμός εργασιών στην ουρά της CPU')\n",
        "plt.show()"
      ],
      "metadata": {
        "colab": {
          "base_uri": "https://localhost:8080/"
        },
        "id": "mHIVzL7SF5fQ",
        "outputId": "3f8d0843-3455-4b52-e85d-97c0d3bd2f28"
      },
      "execution_count": null,
      "outputs": [
        {
          "output_type": "display_data",
          "data": {
            "text/plain": [
              "<Figure size 432x288 with 1 Axes>"
            ],
            "image/png": "[encoded data removed]"
          },
          "metadata": {
            "needs_background": "light"
          }
        }
      ]
    },
    {
      "cell_type": "code",
      "source": [
        "plt.plot(disk_history)\n",
        "plt.xlabel('Χρόνος (msec)')\n",
        "plt.ylabel('Αριθμός εργασιών στην ουρά του δίσκου')\n",
        "plt.show()"
      ],
      "metadata": {
        "colab": {
          "base_uri": "https://localhost:8080/"
        },
        "id": "HOZQ7GTZF6XI",
        "outputId": "ef1fdaac-0adf-48a7-9ece-5c6fe976cf50"
      },
      "execution_count": null,
      "outputs": [
        {
          "output_type": "display_data",
          "data": {
            "text/plain": [
              "<Figure size 432x288 with 1 Axes>"
            ],
            "image/png": "[encoded data removed]"
          },
          "metadata": {
            "needs_background": "light"
          }
        }
      ]
    },
    {
      "cell_type": "markdown",
      "source": [
        "## 3η πρίπτωση - LRUF"
      ],
      "metadata": {
        "id": "1ZWIpyZp6wtd"
      }
    },
    {
      "cell_type": "code",
      "source": [
        "t = 0\n",
        "np.random.seed(54)\n",
        "random.seed(54)\n",
        "CPU_queue = []\n",
        "disk_queue = []\n",
        "completed_jobs = []\n",
        "cpu_history = []\n",
        "disk_history = []\n",
        "regeneration_points = []\n",
        "max_regeneration_cycles = 1000\n",
        "confidence_level = 0.95\n",
        "dt = 1e-3\n",
        "\n",
        "while len(regeneration_points) < max_regeneration_cycles:\n",
        "    if CPU_queue:\n",
        "        #find the job with the lease cpu service time\n",
        "        i = x = res = 0\n",
        "        min = 1000000\n",
        "        for x in CPU_queue:\n",
        "            if x.cpu_service_time < min:\n",
        "                min = x.cpu_service_time\n",
        "                res = i\n",
        "            i += 1\n",
        "        # if there are jobs in the cpu queue, process the one with the highest priority\n",
        "        CPU_queue[res].remaining_time -= dt\n",
        "        if (CPU_queue[res].movement == True):\n",
        "            CPU_queue[res].movement = False\n",
        "            CPU_queue[res].cpu_service_time = dt\n",
        "        else:\n",
        "            CPU_queue[res].cpu_service_time += dt\n",
        "        CPU_queue[res].time_since_last_cpu_use = 0 #if the job is used in the CPU it's now the least recently used\n",
        "        if CPU_queue[res].remaining_time <= 0:\n",
        "            # if it's done, keep it in the completed list and remove it from the queue\n",
        "            CPU_queue[res].end_time = t\n",
        "            completed_jobs.append(CPU_queue[res])\n",
        "            CPU_queue.pop(res)\n",
        "        elif random.random() < disk_arrival_rate * dt:\n",
        "            # if a movement is needed then change the boolean\n",
        "            # jobs move to disk\n",
        "            CPU_queue[res].movement = True\n",
        "            CPU_queue[res].move_to_disk()\n",
        "            disk_queue.append(CPU_queue[res])\n",
        "            CPU_queue.pop(res)\n",
        "\n",
        "    # disk\n",
        "    if disk_queue:\n",
        "        # if the disk is not empty, process the job with the highest priority\n",
        "        disk_queue[0].disk_remaining_time -= dt\n",
        "        if disk_queue[0].disk_remaining_time <= 0:\n",
        "            # if the job with the highest priority is done move it back to the cpu\n",
        "            CPU_queue = insert(disk_queue[0], CPU_queue)\n",
        "            disk_queue.pop(0)\n",
        "    \n",
        "    # new arrivals\n",
        "    if random.random() < cpu_arrival_rate * dt:\n",
        "        if CPU_queue == [] and disk_queue == []:\n",
        "            regeneration_points.append(t)\n",
        "        CPU_queue = insert(Job(time=t), CPU_queue)\n",
        "\n",
        "    \n",
        "    if len(regeneration_points) % 20 == 0 and len(regeneration_points) > 0:\n",
        "        response_times_B = [job.end_time - job.start_time + job.transfer_time for job in completed_jobs]\n",
        "        # ci = confidence interval length\n",
        "        ci = 2 * confidence_level * np.std(response_times_B) / np.sqrt(len(response_times_B))\n",
        "        if ci < 0.1 * np.mean(response_times_B):\n",
        "            break\n",
        "\n",
        "    cpu_history.append(len(CPU_queue))\n",
        "    disk_history.append(len(disk_queue))\n",
        "    t += dt"
      ],
      "metadata": {
        "id": "zGRL25RYJ-sJ"
      },
      "execution_count": null,
      "outputs": []
    },
    {
      "cell_type": "markdown",
      "source": [
        "### Αποτελέσματα προσομοίωσης"
      ],
      "metadata": {
        "id": "oZCjeRar7OgN"
      }
    },
    {
      "cell_type": "code",
      "source": [
        "response_times = [job.end_time - job.start_time + job.transfer_time for job in completed_jobs]\n",
        "print('Average response time:', sum(response_times) / len(response_times))\n",
        "print('=============================================')\n",
        "print('Number of completed jobs:', len(completed_jobs))\n",
        "print('=============================================')\n",
        "print('CPU Utilization =', len(list(filter(lambda x: x != 0, cpu_history))) / len(cpu_history))\n",
        "print('Disk Utilization =', len(list(filter(lambda x: x != 0, disk_history))) / len(disk_history))\n",
        "print('=============================================')\n",
        "print('Total regeneration cycles:', len(regeneration_points))"
      ],
      "metadata": {
        "colab": {
          "base_uri": "https://localhost:8080/"
        },
        "id": "a3KUmOwBU3Xe",
        "outputId": "9e47fbe3-90d0-4e93-f6b1-804e8aa99b0c"
      },
      "execution_count": null,
      "outputs": [
        {
          "output_type": "stream",
          "name": "stdout",
          "text": [
            "Average response time: 1.5777831256171666\n",
            "=============================================\n",
            "Number of completed jobs: 444\n",
            "=============================================\n",
            "CPU Utilization = 0.04928031377579338\n",
            "Disk Utilization = 0.5541398917078826\n",
            "=============================================\n",
            "Total regeneration cycles: 200\n"
          ]
        }
      ]
    },
    {
      "cell_type": "code",
      "source": [
        "plt.plot(cpu_history)\n",
        "plt.xlabel('Χρόνος (msec)')\n",
        "plt.ylabel('Αριθμός εργασιών στην ουρά της CPU')\n",
        "plt.show()"
      ],
      "metadata": {
        "colab": {
          "base_uri": "https://localhost:8080/",
          "height": 280
        },
        "id": "7Hiag6QMVQGU",
        "outputId": "9fcffed4-c6f8-4c06-8500-d67f69aee169"
      },
      "execution_count": null,
      "outputs": [
        {
          "output_type": "display_data",
          "data": {
            "text/plain": [
              "<Figure size 432x288 with 1 Axes>"
            ],
            "image/png": "[encoded data removed]"
          },
          "metadata": {
            "needs_background": "light"
          }
        }
      ]
    },
    {
      "cell_type": "code",
      "source": [
        "plt.plot(disk_history)\n",
        "plt.xlabel('Χρόνος (msec)')\n",
        "plt.ylabel('Αριθμός εργασιών στην ουρά του δίσκου')\n",
        "plt.show()"
      ],
      "metadata": {
        "id": "7EjQLK9dVTjy",
        "outputId": "f04bcea9-7bae-4771-f98a-737c861c0f62",
        "colab": {
          "base_uri": "https://localhost:8080/",
          "height": 280
        }
      },
      "execution_count": null,
      "outputs": [
        {
          "output_type": "display_data",
          "data": {
            "text/plain": [
              "<Figure size 432x288 with 1 Axes>"
            ],
            "image/png": "[encoded data removed]"
          },
          "metadata": {
            "needs_background": "light"
          }
        }
      ]
    }
  ]
}